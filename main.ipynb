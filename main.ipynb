{
 "cells": [
  {
   "cell_type": "code",
   "execution_count": 2,
   "id": "73b0b80d",
   "metadata": {},
   "outputs": [],
   "source": [
    "import json\n",
    "import os\n",
    "import pandas as pd\n",
    "from sklearn.feature_extraction.text import TfidfVectorizer\n",
    "from joblib import dump, load\n",
    "from sklearn.model_selection import train_test_split\n",
    "from sklearn.naive_bayes import MultinomialNB\n",
    "from sklearn.ensemble import RandomForestClassifier\n",
    "from sklearn.svm import SVC\n",
    "from sklearn.metrics import (accuracy_score, precision_score, recall_score, f1_score, confusion_matrix)\n",
    "import warnings\n",
    "warnings.filterwarnings(\"ignore\")"
   ]
  },
  {
   "cell_type": "code",
   "execution_count": 4,
   "id": "ab62cb34",
   "metadata": {},
   "outputs": [
    {
     "name": "stdout",
     "output_type": "stream",
     "text": [
      "steam reviews sample:\n",
      "    Unnamed: 0  app_id                  app_name  review_id  language  \\\n",
      "0           0  292030  The Witcher 3: Wild Hunt   85185598  schinese   \n",
      "1           1  292030  The Witcher 3: Wild Hunt   85185250  schinese   \n",
      "2           2  292030  The Witcher 3: Wild Hunt   85185111  schinese   \n",
      "3           3  292030  The Witcher 3: Wild Hunt   85184605   english   \n",
      "4           4  292030  The Witcher 3: Wild Hunt   85184287  schinese   \n",
      "\n",
      "                                              review  timestamp_created  \\\n",
      "0                            不玩此生遗憾，RPG游戏里的天花板，太吸引人了         1611381629   \n",
      "1                                 拔DIAO无情打桩机--杰洛特!!!         1611381030   \n",
      "2                                              巫师3NB         1611380800   \n",
      "3  One of the best RPG's of all time, worthy of a...         1611379970   \n",
      "4                                                 大作         1611379427   \n",
      "\n",
      "   timestamp_updated  recommended  votes_helpful  ...  steam_purchase  \\\n",
      "0         1611381629         True              0  ...            True   \n",
      "1         1611381030         True              0  ...            True   \n",
      "2         1611380800         True              0  ...            True   \n",
      "3         1611379970         True              0  ...            True   \n",
      "4         1611379427         True              0  ...            True   \n",
      "\n",
      "   received_for_free  written_during_early_access     author.steamid  \\\n",
      "0              False                        False  76561199095369542   \n",
      "1              False                        False  76561198949504115   \n",
      "2              False                        False  76561199090098988   \n",
      "3              False                        False  76561199054755373   \n",
      "4              False                        False  76561199028326951   \n",
      "\n",
      "   author.num_games_owned  author.num_reviews  author.playtime_forever  \\\n",
      "0                       6                   2                   1909.0   \n",
      "1                      30                  10                   2764.0   \n",
      "2                       5                   1                   1061.0   \n",
      "3                       5                   3                   5587.0   \n",
      "4                       7                   4                    217.0   \n",
      "\n",
      "   author.playtime_last_two_weeks  author.playtime_at_review  \\\n",
      "0                          1448.0                     1909.0   \n",
      "1                          2743.0                     2674.0   \n",
      "2                          1061.0                     1060.0   \n",
      "3                          3200.0                     5524.0   \n",
      "4                            42.0                      217.0   \n",
      "\n",
      "   author.last_played  \n",
      "0        1.611343e+09  \n",
      "1        1.611386e+09  \n",
      "2        1.611384e+09  \n",
      "3        1.611384e+09  \n",
      "4        1.610788e+09  \n",
      "\n",
      "[5 rows x 23 columns]\n",
      "all games sample:\n",
      "    index                                  name        platform  \\\n",
      "0      0  The Legend of Zelda: Ocarina of Time     Nintendo 64   \n",
      "1      1              Tony Hawk's Pro Skater 2     PlayStation   \n",
      "2      2                   Grand Theft Auto IV   PlayStation 3   \n",
      "3      3                           SoulCalibur       Dreamcast   \n",
      "4      4                   Grand Theft Auto IV        Xbox 360   \n",
      "\n",
      "         release_date                                            summary  \\\n",
      "0   November 23, 1998  As a young boy, Link is tricked by Ganondorf, ...   \n",
      "1  September 20, 2000  As most major publishers' development efforts ...   \n",
      "2      April 29, 2008  [Metacritic's 2008 PS3 Game of the Year; Also ...   \n",
      "3   September 8, 1999  This is a tale of souls and swords, transcendi...   \n",
      "4      April 29, 2008  [Metacritic's 2008 Xbox 360 Game of the Year; ...   \n",
      "\n",
      "   meta_score user_review  \n",
      "0          99         9.1  \n",
      "1          98         7.4  \n",
      "2          98         7.7  \n",
      "3          98         8.4  \n",
      "4          98         7.9  \n"
     ]
    }
   ],
   "source": [
    "# load config\n",
    "with open(\"config.json\") as f:\n",
    "    config = json.load(f)\n",
    "\n",
    "# load datasets\n",
    "steam_path = config[\"steam_reviews_path\"]\n",
    "games_path = config[\"all_games_path\"]\n",
    "\n",
    "steam_df = pd.read_csv(steam_path)\n",
    "games_df = pd.read_csv(games_path)\n",
    "\n",
    "print(\"steam reviews sample:\\n\", steam_df.head())\n",
    "print(\"all games sample:\\n\", games_df.head())"
   ]
  },
  {
   "cell_type": "code",
   "execution_count": null,
   "id": "d7876c8d",
   "metadata": {},
   "outputs": [
    {
     "name": "stdout",
     "output_type": "stream",
     "text": [
      "🧼 filtering for english reviews and cleaning...\n",
      "filtered reviews remaining: 6993649\n"
     ]
    }
   ],
   "source": [
    "# filter and clean reviews\n",
    "print(\"filtering for english reviews and cleaning...\")\n",
    "steam_df = steam_df[\n",
    "    (steam_df['language'] == 'english') &\n",
    "    (steam_df['review'].notnull()) &\n",
    "    (steam_df['review'].str.len() > 20)\n",
    "]\n",
    "\n",
    "steam_df['label'] = steam_df['recommended'].astype(int)\n",
    "print(f\"filtered reviews remaining: {len(steam_df)}\")"
   ]
  },
  {
   "cell_type": "code",
   "execution_count": 7,
   "id": "8b7c9baf",
   "metadata": {},
   "outputs": [
    {
     "name": "stdout",
     "output_type": "stream",
     "text": [
      "grouping reviews by game...\n",
      "games grouped: 315\n",
      "sample grouped review:\n",
      " muito legal e desafiador recomendo!! I was admittedly initially turned off by the art style to this game. After numerous recommendations I finally gave in a purchased it during the recent sale. I'm sad I waited so long because this game is so incredibly fun. I encourage anyone to try it out, and I look forward to 30XX releasing soon! It looks like a flash game, but this game is fun to play and looks great. I can't wait to find someone to play it with. The best Megaman X game I have seen in years\n",
      "grouped reviews saved\n"
     ]
    }
   ],
   "source": [
    "# group by game\n",
    "GROUPED_PATH = \"grouped_reviews.csv\"\n",
    "if os.path.exists(GROUPED_PATH):\n",
    "    print(\"loading previously grouped reviews from file...\")\n",
    "    grouped_reviews = pd.read_csv(GROUPED_PATH)\n",
    "else:\n",
    "    print(\"grouping reviews by game...\")\n",
    "    grouped_reviews = steam_df.groupby('app_name').agg({\n",
    "        'review': lambda x: ' '.join(x),\n",
    "        'label': 'mean'\n",
    "    }).reset_index()\n",
    "\n",
    "    grouped_reviews['sentiment_label'] = (grouped_reviews['label'] > 0.5).astype(int)\n",
    "\n",
    "    print(f\"games grouped: {len(grouped_reviews)}\")\n",
    "    print(\"sample grouped review:\\n\", grouped_reviews['review'].iloc[0][:500])\n",
    "\n",
    "    grouped_reviews.to_csv(GROUPED_PATH, index=False)\n",
    "    print(\"grouped reviews saved\")"
   ]
  },
  {
   "cell_type": "code",
   "execution_count": 9,
   "id": "d263615e",
   "metadata": {},
   "outputs": [
    {
     "name": "stdout",
     "output_type": "stream",
     "text": [
      "\n",
      "ratio split of grouped games (total = 315):\n",
      "positive (label > 0.5): 287\n",
      "negative (label <= 0.5): 28\n"
     ]
    }
   ],
   "source": [
    "# show sentiment ratio\n",
    "num_pos = (grouped_reviews['label'] > 0.5).sum()\n",
    "num_neg = (grouped_reviews['label'] <= 0.5).sum()\n",
    "print(f\"\\nratio split of grouped games (total = {len(grouped_reviews)}):\")\n",
    "print(f\"positive (label > 0.5): {num_pos}\")\n",
    "print(f\"negative (label <= 0.5): {num_neg}\")"
   ]
  },
  {
   "cell_type": "code",
   "execution_count": 10,
   "id": "f2e2bcf1",
   "metadata": {},
   "outputs": [
    {
     "name": "stdout",
     "output_type": "stream",
     "text": [
      "vectorizing text using tfidf...\n",
      "vectorized data saved\n",
      "tfidf matrix shape: (315, 10000)\n"
     ]
    }
   ],
   "source": [
    "# text vectorization\n",
    "X_PATH = \"X_vectorized.pkl\"\n",
    "y_PATH = \"y_labels.pkl\"\n",
    "VECTORIZER_PATH = \"tfidf_vectorizer.pkl\"\n",
    "\n",
    "if os.path.exists(X_PATH) and os.path.exists(y_PATH) and os.path.exists(VECTORIZER_PATH):\n",
    "    print(\"loading cached vectorized data...\")\n",
    "    X = load(X_PATH)\n",
    "    y = load(y_PATH)\n",
    "    vectorizer = load(VECTORIZER_PATH)\n",
    "else:\n",
    "    print(\"vectorizing text using tfidf...\")\n",
    "    vectorizer = TfidfVectorizer(stop_words='english', max_features=10000)\n",
    "    X = vectorizer.fit_transform(grouped_reviews['review'])\n",
    "    y = grouped_reviews['sentiment_label']\n",
    "    dump(X, X_PATH)\n",
    "    dump(y, y_PATH)\n",
    "    dump(vectorizer, VECTORIZER_PATH)\n",
    "    print(\"vectorized data saved\")\n",
    "\n",
    "print(f\"tfidf matrix shape: {X.shape}\")"
   ]
  },
  {
   "cell_type": "code",
   "execution_count": 12,
   "id": "70ad9282",
   "metadata": {},
   "outputs": [
    {
     "name": "stdout",
     "output_type": "stream",
     "text": [
      "splitting into train/test...\n"
     ]
    }
   ],
   "source": [
    "# split dataset\n",
    "print(\"splitting into train/test...\")\n",
    "X_train, X_test, y_train, y_test = train_test_split(\n",
    "    X, y, test_size=0.2, random_state=42, stratify=y\n",
    ")"
   ]
  },
  {
   "cell_type": "code",
   "execution_count": 13,
   "id": "b9771108",
   "metadata": {},
   "outputs": [],
   "source": [
    "# evaluation helper\n",
    "def evaluate_model(name, model):\n",
    "    print(f\"\\ntraining {name}...\")\n",
    "    model.fit(X_train, y_train)\n",
    "    preds = model.predict(X_test)\n",
    "\n",
    "    print(f\"{name} Accuracy: {accuracy_score(y_test, preds):.2f}\")\n",
    "    print(f\"{name} Precision: {precision_score(y_test, preds, zero_division=0):.2f}\")\n",
    "    print(f\"{name} Recall: {recall_score(y_test, preds, zero_division=0):.2f}\")\n",
    "    print(f\"{name} F1 Score: {f1_score(y_test, preds, zero_division=0):.2f}\")\n",
    "    print(\"Confusion Matrix:\\n\", confusion_matrix(y_test, preds))"
   ]
  },
  {
   "cell_type": "code",
   "execution_count": 14,
   "id": "18cec219",
   "metadata": {},
   "outputs": [
    {
     "name": "stdout",
     "output_type": "stream",
     "text": [
      "\n",
      "training Naive Bayes...\n",
      "Naive Bayes Accuracy: 0.90\n",
      "Naive Bayes Precision: 0.90\n",
      "Naive Bayes Recall: 1.00\n",
      "Naive Bayes F1 Score: 0.95\n",
      "Confusion Matrix:\n",
      " [[ 0  6]\n",
      " [ 0 57]]\n",
      "\n",
      "training Random Forest...\n",
      "Random Forest Accuracy: 0.92\n",
      "Random Forest Precision: 0.92\n",
      "Random Forest Recall: 1.00\n",
      "Random Forest F1 Score: 0.96\n",
      "Confusion Matrix:\n",
      " [[ 1  5]\n",
      " [ 0 57]]\n",
      "\n",
      "training SVM (RBF)...\n",
      "SVM (RBF) Accuracy: 0.94\n",
      "SVM (RBF) Precision: 0.96\n",
      "SVM (RBF) Recall: 0.96\n",
      "SVM (RBF) F1 Score: 0.96\n",
      "Confusion Matrix:\n",
      " [[ 4  2]\n",
      " [ 2 55]]\n"
     ]
    }
   ],
   "source": [
    "# run models\n",
    "evaluate_model(\"Naive Bayes\", MultinomialNB())\n",
    "evaluate_model(\"Random Forest\", RandomForestClassifier(n_estimators=100, random_state=42, class_weight='balanced'))\n",
    "evaluate_model(\"SVM (RBF)\", SVC(kernel='rbf', class_weight='balanced'))"
   ]
  },
  {
   "cell_type": "code",
   "execution_count": 15,
   "id": "9ea9d973",
   "metadata": {},
   "outputs": [
    {
     "name": "stdout",
     "output_type": "stream",
     "text": [
      "\n",
      "📊 Top 20 most common words in all reviews:\n",
      "game: 214\n",
      "like: 48\n",
      "just: 39\n",
      "good: 36\n",
      "fun: 36\n",
      "play: 35\n",
      "really: 29\n",
      "great: 28\n",
      "games: 27\n",
      "time: 26\n",
      "10: 25\n",
      "story: 21\n",
      "don: 17\n",
      "played: 16\n",
      "best: 16\n",
      "love: 15\n",
      "hours: 15\n",
      "playing: 15\n",
      "ve: 14\n",
      "make: 14\n"
     ]
    }
   ],
   "source": [
    "# most common words\n",
    "print(\"\\n📊 Top 20 most common words in all reviews:\")\n",
    "feature_names = vectorizer.get_feature_names_out()\n",
    "sum_words = X.sum(axis=0)\n",
    "word_freq = [(word, sum_words[0, idx]) for idx, word in enumerate(feature_names)]\n",
    "top_words = sorted(word_freq, key=lambda x: x[1], reverse=True)[:20]\n",
    "\n",
    "for word, freq in top_words:\n",
    "    print(f\"{word}: {int(freq)}\")"
   ]
  }
 ],
 "metadata": {
  "kernelspec": {
   "display_name": "Python 3",
   "language": "python",
   "name": "python3"
  },
  "language_info": {
   "codemirror_mode": {
    "name": "ipython",
    "version": 3
   },
   "file_extension": ".py",
   "mimetype": "text/x-python",
   "name": "python",
   "nbconvert_exporter": "python",
   "pygments_lexer": "ipython3",
   "version": "3.11.9"
  }
 },
 "nbformat": 4,
 "nbformat_minor": 5
}
